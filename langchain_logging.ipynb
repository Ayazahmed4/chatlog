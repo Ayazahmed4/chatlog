
# Install required libraries if not already installed
# !pip install langchain openai azure-identity pandas numpy

# Import necessary libraries
import os
import re
import pandas as pd
import numpy as np
from datetime import datetime, timedelta
from typing import List, Tuple, Optional
import asyncio

# Import Azure and LangChain libraries
from azure.identity import DefaultAzureCredential
import openai
from langchain.llms import AzureOpenAI
from langchain.embeddings import OpenAIEmbeddings
from langchain.agents import initialize_agent, AgentType
from langchain import PromptTemplate, LLMChain
from langchain.memory import ConversationBufferMemory
from langchain.tools import BaseTool

# Set up OpenAI API to use Azure OpenAI Service
openai.api_type = "azure"
openai.api_version = "2023-05-15"  # Use the appropriate API version
openai.api_base = "https://<your-resource-name>.openai.azure.com/"  # Replace with your endpoint
openai.api_key = "<your-api-key>"  # Replace with your API key
