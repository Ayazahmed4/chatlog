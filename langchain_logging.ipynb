
# Install required libraries if not already installed
# !pip install langchain openai azure-identity pandas numpy

# Import necessary libraries
import os
import re
import pandas as pd
import numpy as np
from datetime import datetime, timedelta
from typing import List, Tuple, Optional
import asyncio

# Import Azure and LangChain libraries
from azure.identity import DefaultAzureCredential
import openai
from langchain.llms import AzureOpenAI
from langchain.embeddings import OpenAIEmbeddings
from langchain.agents import initialize_agent, AgentType
from langchain import PromptTemplate, LLMChain
from langchain.memory import ConversationBufferMemory
from langchain.tools import BaseTool

# Set up OpenAI API to use Azure OpenAI Service
openai.api_type = "azure"
openai.api_version = "2023-05-15"  # Use the appropriate API version
openai.api_base = "https://<your-resource-name>.openai.azure.com/"  # Replace with your endpoint
openai.api_key = "<your-api-key>"  # Replace with your API key



class LogFilterTool(BaseTool):
    name = "Time-Based Log Filter"
    description = "Filters log entries based on a specified time frame."

    def __init__(self, log_file_path: str):
        self.log_file_path = log_file_path

    def _run(self, start_time: Optional[str] = None, end_time: Optional[str] = None) -> List[str]:
        start_datetime, end_datetime = self.get_time_frame(start_time, end_time)
        filtered_logs = self.filter_logs_by_time(start_datetime, end_datetime)
        return filtered_logs

    def _arun(self, *args, **kwargs):
        raise NotImplementedError("Async not supported for LogFilterTool.")

    def get_time_frame(self, start_time: Optional[str], end_time: Optional[str]) -> Tuple[datetime, datetime]:
        if end_time:
            end_datetime = datetime.strptime(end_time, '%Y-%m-%d %H:%M:%S')
        else:
            end_datetime = datetime.now()
        if start_time:
            start_datetime = datetime.strptime(start_time, '%Y-%m-%d %H:%M:%S')
        else:
            start_datetime = end_datetime - timedelta(days=1)
        return start_datetime, end_datetime

    def filter_logs_by_time(self, start_datetime: datetime, end_datetime: datetime) -> List[str]:
        filtered_logs = []
        timestamp_pattern = re.compile(r'\d{4}-\d{2}-\d{2} \d{2}:\d{2}:\d{2}')

        with open(self.log_file_path, 'r') as file:
            for line in file:
                match = timestamp_pattern.match(line)
                if match:
                    log_time_str = match.group()
                    log_time = datetime.strptime(log_time_str, '%Y-%m-%d %H:%M:%S')
                    if start_datetime <= log_time <= end_datetime:
                        filtered_logs.append(line)
                else:
                    if filtered_logs:
                        filtered_logs[-1] += line
        return filtered_logs

